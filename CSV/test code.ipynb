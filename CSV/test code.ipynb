{
 "cells": [
  {
   "cell_type": "code",
   "execution_count": 2,
   "id": "104cc459",
   "metadata": {},
   "outputs": [
    {
     "name": "stdout",
     "output_type": "stream",
     "text": [
      "+1 8498860\n",
      "+1 1917997\n",
      "+1 6769171\n",
      "+1 7170229\n",
      "+1 3672596\n",
      "+1 2504220\n",
      "+1 1319239\n",
      "+1 8744118\n",
      "+1 2009693\n",
      "+1 7585442\n"
     ]
    }
   ],
   "source": [
    "from faker import Faker\n",
    "import random\n",
    "\n",
    "fake = Faker()\n",
    "\n",
    "def generate_custom_phone(country_code, length):\n",
    "    remaining_digits = length - len(country_code)\n",
    "    digits = ''.join(str(random.randint(0, 9)) for _ in range(remaining_digits))\n",
    "    phone_number = f\"{country_code}{digits}\"\n",
    "    return phone_number\n",
    "\n",
    "num_customers = 10  # Number of customer phone numbers you want to generate\n",
    "\n",
    "for _ in range(num_customers):\n",
    "    origin_country_code = \"+1 \"  # Replace with the origin country's telephonic code\n",
    "    phone_length = 10  # Replace with the desired total length of the phone number\n",
    "    custom_phone = generate_custom_phone(origin_country_code, phone_length)\n",
    "    print(custom_phone)\n"
   ]
  },
  {
   "cell_type": "code",
   "execution_count": 5,
   "id": "010a6bbd",
   "metadata": {},
   "outputs": [
    {
     "name": "stdout",
     "output_type": "stream",
     "text": [
      "Country: Australia, Phone: +61 28425254396\n",
      "Country: United States, Phone: +1 661047861870\n",
      "Country: United Kingdom, Phone: +44 81205982563\n",
      "Country: United States, Phone: +1 748370840716\n",
      "Country: Canada, Phone: +1 581296669536\n",
      "Country: Canada, Phone: +1 754721084948\n",
      "Country: Australia, Phone: +61 87577316394\n",
      "Country: United Kingdom, Phone: +44 50545563472\n",
      "Country: Australia, Phone: +61 01980295689\n",
      "Country: Australia, Phone: +61 96222570532\n"
     ]
    }
   ],
   "source": [
    "from faker import Faker\n",
    "import random\n",
    "\n",
    "fake = Faker()\n",
    "\n",
    "# A dictionary containing ITU country codes for specific countries\n",
    "itu_country_codes = {\n",
    "    \"United States\": \"+1 \",\n",
    "    \"Canada\": \"+1 \",\n",
    "    \"United Kingdom\": \"+44 \",\n",
    "    \"Australia\": \"+61 \",\n",
    "    # Add more countries and their codes here\n",
    "}\n",
    "\n",
    "def generate_custom_phone(country_code, length):\n",
    "    remaining_digits = length - len(country_code)\n",
    "    digits = ''.join(str(random.randint(0, 9)) for _ in range(remaining_digits))\n",
    "    phone_number = f\"{country_code}{digits}\"\n",
    "    return phone_number\n",
    "\n",
    "num_customers = 10  # Number of customer data you want to generate\n",
    "\n",
    "for _ in range(num_customers):\n",
    "    country = fake.random_element(itu_country_codes.keys())\n",
    "    country_code = itu_country_codes[country]\n",
    "    phone_length = 15  # Replace with the desired total length of the phone number\n",
    "    custom_phone = generate_custom_phone(country_code, phone_length)\n",
    "    print(f\"Country: {country}, Phone: {custom_phone}\")\n"
   ]
  },
  {
   "cell_type": "code",
   "execution_count": 7,
   "id": "85fa3bf3",
   "metadata": {},
   "outputs": [],
   "source": [
    "import numpy as np\n",
    "ccode='+91'\n",
    "digits=10\n",
    "def gen_ph():\n",
    "    s=\"\"\n",
    "    s=s+\"(\"+ccode+\")\"\n",
    "    for i in range(10):\n",
    "        s=s+str(np.random.choice([0,1,2,3,4,5,6,7,8,9]))\n",
    "    return s"
   ]
  },
  {
   "cell_type": "code",
   "execution_count": 8,
   "id": "e442e6c2",
   "metadata": {},
   "outputs": [
    {
     "data": {
      "text/plain": [
       "'(+91)6550816520'"
      ]
     },
     "execution_count": 8,
     "metadata": {},
     "output_type": "execute_result"
    }
   ],
   "source": [
    "gen_ph()"
   ]
  },
  {
   "cell_type": "code",
   "execution_count": 4,
   "id": "4a175f5e",
   "metadata": {},
   "outputs": [
    {
     "name": "stdout",
     "output_type": "stream",
     "text": [
      "2023-03-18 06:24:58\n",
      "2023-07-01 14:44:55\n",
      "2023-02-20 17:44:16\n",
      "2023-03-21 07:35:47\n",
      "2023-05-08 12:04:25\n",
      "2023-07-09 06:09:13\n",
      "2023-08-16 23:18:35\n",
      "2023-02-07 22:56:31\n",
      "2023-02-05 23:56:58\n",
      "2023-02-08 21:32:59\n"
     ]
    }
   ],
   "source": [
    "from faker import Faker\n",
    "\n",
    "fake = Faker()\n",
    "\n",
    "num_entries = 10  # Number of date and time values you want to generate\n",
    "\n",
    "for _ in range(num_entries):\n",
    "    random_date_time = fake.date_time_this_year()  # Generate a random date and time within the current year\n",
    "    print(random_date_time)"
   ]
  },
  {
   "cell_type": "code",
   "execution_count": 6,
   "id": "b2fcc425",
   "metadata": {},
   "outputs": [
    {
     "ename": "ParseError",
     "evalue": "Can't parse date string `2023-01-01`",
     "output_type": "error",
     "traceback": [
      "\u001b[0;31m---------------------------------------------------------------------------\u001b[0m",
      "\u001b[0;31mParseError\u001b[0m                                Traceback (most recent call last)",
      "Cell \u001b[0;32mIn[6], line 10\u001b[0m\n\u001b[1;32m      7\u001b[0m num_entries \u001b[38;5;241m=\u001b[39m \u001b[38;5;241m10\u001b[39m  \u001b[38;5;66;03m# Number of date and time values you want to generate\u001b[39;00m\n\u001b[1;32m      9\u001b[0m \u001b[38;5;28;01mfor\u001b[39;00m _ \u001b[38;5;129;01min\u001b[39;00m \u001b[38;5;28mrange\u001b[39m(num_entries):\n\u001b[0;32m---> 10\u001b[0m     random_date \u001b[38;5;241m=\u001b[39m fake\u001b[38;5;241m.\u001b[39mdate_between_dates(date_start\u001b[38;5;241m=\u001b[39mstart_date, date_end\u001b[38;5;241m=\u001b[39mend_date)  \u001b[38;5;66;03m# Generate a random date\u001b[39;00m\n\u001b[1;32m     11\u001b[0m     random_time \u001b[38;5;241m=\u001b[39m fake\u001b[38;5;241m.\u001b[39mtime()  \u001b[38;5;66;03m# Generate a random time\u001b[39;00m\n\u001b[1;32m     12\u001b[0m     \u001b[38;5;28mprint\u001b[39m(\u001b[38;5;124mf\u001b[39m\u001b[38;5;124m\"\u001b[39m\u001b[38;5;124mDate: \u001b[39m\u001b[38;5;132;01m{\u001b[39;00mrandom_date\u001b[38;5;132;01m}\u001b[39;00m\u001b[38;5;124m, Time: \u001b[39m\u001b[38;5;132;01m{\u001b[39;00mrandom_time\u001b[38;5;132;01m}\u001b[39;00m\u001b[38;5;124m\"\u001b[39m)\n",
      "File \u001b[0;32m~/Desktop/College/Third Sem/Data Analatics/CSV/env/lib/python3.11/site-packages/faker/providers/date_time/__init__.py:2158\u001b[0m, in \u001b[0;36mProvider.date_between_dates\u001b[0;34m(self, date_start, date_end)\u001b[0m\n\u001b[1;32m   2145\u001b[0m \u001b[38;5;28;01mdef\u001b[39;00m \u001b[38;5;21mdate_between_dates\u001b[39m(\n\u001b[1;32m   2146\u001b[0m     \u001b[38;5;28mself\u001b[39m,\n\u001b[1;32m   2147\u001b[0m     date_start: Optional[DateParseType] \u001b[38;5;241m=\u001b[39m \u001b[38;5;28;01mNone\u001b[39;00m,\n\u001b[1;32m   2148\u001b[0m     date_end: Optional[DateParseType] \u001b[38;5;241m=\u001b[39m \u001b[38;5;28;01mNone\u001b[39;00m,\n\u001b[1;32m   2149\u001b[0m ) \u001b[38;5;241m-\u001b[39m\u001b[38;5;241m>\u001b[39m dtdate:\n\u001b[1;32m   2150\u001b[0m \u001b[38;5;250m    \u001b[39m\u001b[38;5;124;03m\"\"\"\u001b[39;00m\n\u001b[1;32m   2151\u001b[0m \u001b[38;5;124;03m    Takes two Date objects and returns a random date between the two given dates.\u001b[39;00m\n\u001b[1;32m   2152\u001b[0m \u001b[38;5;124;03m    Accepts Date or datetime objects\u001b[39;00m\n\u001b[0;32m   (...)\u001b[0m\n\u001b[1;32m   2156\u001b[0m \u001b[38;5;124;03m    :return: Date\u001b[39;00m\n\u001b[1;32m   2157\u001b[0m \u001b[38;5;124;03m    \"\"\"\u001b[39;00m\n\u001b[0;32m-> 2158\u001b[0m     \u001b[38;5;28;01mreturn\u001b[39;00m \u001b[38;5;28mself\u001b[39m\u001b[38;5;241m.\u001b[39mdate_time_between_dates(date_start, date_end)\u001b[38;5;241m.\u001b[39mdate()\n",
      "File \u001b[0;32m~/Desktop/College/Third Sem/Data Analatics/CSV/env/lib/python3.11/site-packages/faker/providers/date_time/__init__.py:2122\u001b[0m, in \u001b[0;36mProvider.date_time_between_dates\u001b[0;34m(self, datetime_start, datetime_end, tzinfo)\u001b[0m\n\u001b[1;32m   2102\u001b[0m \u001b[38;5;28;01mdef\u001b[39;00m \u001b[38;5;21mdate_time_between_dates\u001b[39m(\n\u001b[1;32m   2103\u001b[0m     \u001b[38;5;28mself\u001b[39m,\n\u001b[1;32m   2104\u001b[0m     datetime_start: Optional[DateParseType] \u001b[38;5;241m=\u001b[39m \u001b[38;5;28;01mNone\u001b[39;00m,\n\u001b[1;32m   2105\u001b[0m     datetime_end: Optional[DateParseType] \u001b[38;5;241m=\u001b[39m \u001b[38;5;28;01mNone\u001b[39;00m,\n\u001b[1;32m   2106\u001b[0m     tzinfo: Optional[TzInfo] \u001b[38;5;241m=\u001b[39m \u001b[38;5;28;01mNone\u001b[39;00m,\n\u001b[1;32m   2107\u001b[0m ) \u001b[38;5;241m-\u001b[39m\u001b[38;5;241m>\u001b[39m datetime:\n\u001b[1;32m   2108\u001b[0m \u001b[38;5;250m    \u001b[39m\u001b[38;5;124;03m\"\"\"\u001b[39;00m\n\u001b[1;32m   2109\u001b[0m \u001b[38;5;124;03m    Takes two datetime objects and returns a random datetime between the two\u001b[39;00m\n\u001b[1;32m   2110\u001b[0m \u001b[38;5;124;03m    given datetimes.\u001b[39;00m\n\u001b[0;32m   (...)\u001b[0m\n\u001b[1;32m   2117\u001b[0m \u001b[38;5;124;03m    :return: datetime\u001b[39;00m\n\u001b[1;32m   2118\u001b[0m \u001b[38;5;124;03m    \"\"\"\u001b[39;00m\n\u001b[1;32m   2119\u001b[0m     datetime_start_ \u001b[38;5;241m=\u001b[39m (\n\u001b[1;32m   2120\u001b[0m         datetime_to_timestamp(datetime\u001b[38;5;241m.\u001b[39mnow(tzinfo))\n\u001b[1;32m   2121\u001b[0m         \u001b[38;5;28;01mif\u001b[39;00m datetime_start \u001b[38;5;129;01mis\u001b[39;00m \u001b[38;5;28;01mNone\u001b[39;00m\n\u001b[0;32m-> 2122\u001b[0m         \u001b[38;5;28;01melse\u001b[39;00m \u001b[38;5;28mself\u001b[39m\u001b[38;5;241m.\u001b[39m_parse_date_time(datetime_start)\n\u001b[1;32m   2123\u001b[0m     )\n\u001b[1;32m   2124\u001b[0m     datetime_end_ \u001b[38;5;241m=\u001b[39m (\n\u001b[1;32m   2125\u001b[0m         datetime_to_timestamp(datetime\u001b[38;5;241m.\u001b[39mnow(tzinfo)) \u001b[38;5;28;01mif\u001b[39;00m datetime_end \u001b[38;5;129;01mis\u001b[39;00m \u001b[38;5;28;01mNone\u001b[39;00m \u001b[38;5;28;01melse\u001b[39;00m \u001b[38;5;28mself\u001b[39m\u001b[38;5;241m.\u001b[39m_parse_date_time(datetime_end)\n\u001b[1;32m   2126\u001b[0m     )\n\u001b[1;32m   2128\u001b[0m     timestamp \u001b[38;5;241m=\u001b[39m \u001b[38;5;28mself\u001b[39m\u001b[38;5;241m.\u001b[39mgenerator\u001b[38;5;241m.\u001b[39mrandom\u001b[38;5;241m.\u001b[39mrandint(datetime_start_, datetime_end_)\n",
      "File \u001b[0;32m~/Desktop/College/Third Sem/Data Analatics/CSV/env/lib/python3.11/site-packages/faker/providers/date_time/__init__.py:1984\u001b[0m, in \u001b[0;36mProvider._parse_date_time\u001b[0;34m(cls, value, tzinfo)\u001b[0m\n\u001b[1;32m   1982\u001b[0m     \u001b[38;5;28;01mif\u001b[39;00m value \u001b[38;5;241m==\u001b[39m \u001b[38;5;124m\"\u001b[39m\u001b[38;5;124mnow\u001b[39m\u001b[38;5;124m\"\u001b[39m:\n\u001b[1;32m   1983\u001b[0m         \u001b[38;5;28;01mreturn\u001b[39;00m datetime_to_timestamp(datetime\u001b[38;5;241m.\u001b[39mnow(tzinfo))\n\u001b[0;32m-> 1984\u001b[0m     time_params \u001b[38;5;241m=\u001b[39m \u001b[38;5;28mcls\u001b[39m\u001b[38;5;241m.\u001b[39m_parse_date_string(value)\n\u001b[1;32m   1985\u001b[0m     \u001b[38;5;28;01mreturn\u001b[39;00m datetime_to_timestamp(now \u001b[38;5;241m+\u001b[39m timedelta(\u001b[38;5;241m*\u001b[39m\u001b[38;5;241m*\u001b[39mtime_params))  \u001b[38;5;66;03m# type: ignore\u001b[39;00m\n\u001b[1;32m   1986\u001b[0m \u001b[38;5;28;01mif\u001b[39;00m \u001b[38;5;28misinstance\u001b[39m(value, \u001b[38;5;28mint\u001b[39m):\n",
      "File \u001b[0;32m~/Desktop/College/Third Sem/Data Analatics/CSV/env/lib/python3.11/site-packages/faker/providers/date_time/__init__.py:1960\u001b[0m, in \u001b[0;36mProvider._parse_date_string\u001b[0;34m(cls, value)\u001b[0m\n\u001b[1;32m   1957\u001b[0m     time_params[\u001b[38;5;124m\"\u001b[39m\u001b[38;5;124mdays\u001b[39m\u001b[38;5;124m\"\u001b[39m] \u001b[38;5;241m+\u001b[39m\u001b[38;5;241m=\u001b[39m \u001b[38;5;241m30.42\u001b[39m \u001b[38;5;241m*\u001b[39m time_params\u001b[38;5;241m.\u001b[39mpop(\u001b[38;5;124m\"\u001b[39m\u001b[38;5;124mmonths\u001b[39m\u001b[38;5;124m\"\u001b[39m)\n\u001b[1;32m   1959\u001b[0m \u001b[38;5;28;01mif\u001b[39;00m \u001b[38;5;129;01mnot\u001b[39;00m time_params:\n\u001b[0;32m-> 1960\u001b[0m     \u001b[38;5;28;01mraise\u001b[39;00m ParseError(\u001b[38;5;124mf\u001b[39m\u001b[38;5;124m\"\u001b[39m\u001b[38;5;124mCan\u001b[39m\u001b[38;5;124m'\u001b[39m\u001b[38;5;124mt parse date string `\u001b[39m\u001b[38;5;132;01m{\u001b[39;00mvalue\u001b[38;5;132;01m}\u001b[39;00m\u001b[38;5;124m`\u001b[39m\u001b[38;5;124m\"\u001b[39m)\n\u001b[1;32m   1961\u001b[0m \u001b[38;5;28;01mreturn\u001b[39;00m time_params\n",
      "\u001b[0;31mParseError\u001b[0m: Can't parse date string `2023-01-01`"
     ]
    }
   ],
   "source": [
    "from faker import Faker\n",
    "\n",
    "fake = Faker()\n",
    "\n",
    "start_date = \"2023-01-01\"\n",
    "end_date = \"2023-12-31\"\n",
    "num_entries = 10  # Number of date and time values you want to generate\n",
    "\n",
    "for _ in range(num_entries):\n",
    "    random_date = fake.date_between_dates(date_start=start_date, date_end=end_date)  # Generate a random date\n",
    "    random_time = fake.time()  # Generate a random time\n",
    "    print(f\"Date: {random_date}, Time: {random_time}\")\n"
   ]
  },
  {
   "cell_type": "code",
   "execution_count": 10,
   "id": "8acc262b",
   "metadata": {},
   "outputs": [
    {
     "name": "stdout",
     "output_type": "stream",
     "text": [
      "Date: 2023-02-18, Time: 06:27:31\n",
      "Date: 2014-07-16, Time: 07:21:07\n",
      "Date: 2022-07-16, Time: 03:59:13\n",
      "Date: 2006-07-10, Time: 02:51:05\n",
      "Date: 2015-01-28, Time: 00:08:53\n",
      "Date: 2020-10-04, Time: 02:33:36\n",
      "Date: 2011-08-31, Time: 23:35:59\n",
      "Date: 2021-03-04, Time: 08:58:41\n",
      "Date: 2009-09-17, Time: 18:24:31\n",
      "Date: 2012-06-10, Time: 19:06:29\n"
     ]
    }
   ],
   "source": [
    "from faker import Faker\n",
    "import datetime\n",
    "\n",
    "fake = Faker()\n",
    "\n",
    "start_date = datetime.date(2003, 1, 1)\n",
    "end_date = datetime.date(2023, 12, 31)\n",
    "num_entries = 10  # Number of date and time values you want to generate\n",
    "\n",
    "for _ in range(num_entries):\n",
    "    random_date = fake.date_between_dates(date_start=start_date, date_end=end_date)  # Generate a random date\n",
    "    random_time = fake.time()  # Generate a random time\n",
    "    print(f\"Date: {random_date}, Time: {random_time}\")\n"
   ]
  },
  {
   "cell_type": "code",
   "execution_count": null,
   "id": "db649ad4",
   "metadata": {},
   "outputs": [],
   "source": []
  }
 ],
 "metadata": {
  "kernelspec": {
   "display_name": "Python 3 (ipykernel)",
   "language": "python",
   "name": "python3"
  },
  "language_info": {
   "codemirror_mode": {
    "name": "ipython",
    "version": 3
   },
   "file_extension": ".py",
   "mimetype": "text/x-python",
   "name": "python",
   "nbconvert_exporter": "python",
   "pygments_lexer": "ipython3",
   "version": "3.11.4"
  }
 },
 "nbformat": 4,
 "nbformat_minor": 5
}
